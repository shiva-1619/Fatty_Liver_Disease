{
 "cells": [
  {
   "cell_type": "code",
   "execution_count": null,
   "id": "65dee263",
   "metadata": {},
   "outputs": [],
   "source": [
    "pip install pandas\n",
    "pip install chardet\n",
    "import pandas as pd\n",
    "import chardet\n",
    "with open('path for complete data with missing values', 'rb') as f:\n",
    "    result = chardet.detect(f.read())  \n",
    "df = pd.read_csv('path for complete data with missing values', encoding=result['encoding'])\n",
    "gender_mapping = {'Male': 1, 'Female': 0}\n",
    "df['Gender of the patient'] = df['Gender of the patient'].map(gender_mapping, na_action='ignore')\n",
    "row_data = df.loc[23]\n",
    "complete_data = df.dropna()\n",
    "missing_data = df[df.isnull().any(axis=1)]\n",
    "import pandas as pd\n",
    "complete_data.to_csv('give some path to store data without missing values', index=False)\n",
    "predictor_columns = [col for col in complete_data.columns if col != target_column]\n",
    "X_missing_gender = missing_data[predictor_columns]\n",
    "\n",
    "for column in X_missing_gender.columns:\n",
    "    if X_missing_gender[column].isnull().any():\n",
    "        mean_value = X_missing_gender[column].mean()\n",
    "        X_missing_gender[column].fillna(mean_value, inplace=True)\n",
    "from sklearn.ensemble import RandomForestClassifier\n",
    "\n",
    "target_column = 'Gender of the patient'\n",
    "predictor_columns = [col for col in complete_data.columns if col != target_column]\n",
    "\n",
    "X_train = complete_data[predictor_columns]\n",
    "y_train = complete_data[target_column]\n",
    "\n",
    "model = RandomForestClassifier()  \n",
    "model.fit(X_train, y_train)\n",
    "predicted_genders = model.predict(X_missing_gender)\n",
    "missing_data.loc[missing_data.index, 'Gender of the patient'] = predicted_genders\n",
    "column_names_list = X_missing_gender.columns.tolist()\n",
    "missing_data[column_names_list] = X_missing_gender[column_names_list]\n",
    "fd = missing_data['Gender of the patient']\n",
    "fd.unique()\n",
    "merged_data = pd.concat([complete_data, missing_data], axis=0)\n",
    "merged_data = pd.concat([complete_data, missing_data], axis=0).reset_index(drop=True)\n",
    "merged_data.to_csv(\"give some path to store data after pre processing\")"
   ]
  }
 ],
 "metadata": {
  "kernelspec": {
   "display_name": "Python 3 (ipykernel)",
   "language": "python",
   "name": "python3"
  },
  "language_info": {
   "codemirror_mode": {
    "name": "ipython",
    "version": 3
   },
   "file_extension": ".py",
   "mimetype": "text/x-python",
   "name": "python",
   "nbconvert_exporter": "python",
   "pygments_lexer": "ipython3",
   "version": "3.9.7"
  }
 },
 "nbformat": 4,
 "nbformat_minor": 5
}
