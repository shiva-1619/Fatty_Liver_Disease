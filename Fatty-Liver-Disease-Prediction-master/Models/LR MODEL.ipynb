{
 "cells": [
  {
   "cell_type": "code",
   "execution_count": null,
   "id": "94a6bc83",
   "metadata": {},
   "outputs": [],
   "source": [
    "import pandas as pd\n",
    "import numpy as np\n",
    "from sklearn.model_selection import train_test_split\n",
    "from sklearn.svm import SVC\n",
    "from sklearn.metrics import accuracy_score, precision_score, recall_score, f1_score, confusion_matrix, roc_curve, auc\n",
    "import matplotlib.pyplot as plt\n",
    "import seaborn as sns\n",
    "from sklearn.model_selection import StratifiedKFold\n",
    "from sklearn.metrics import classification_report\n",
    "from sklearn.linear_model import LogisticRegression\n",
    "import pickle\n",
    "train_data = pd.read_csv(\"training data path\")\n",
    "test_data = pd.read_csv(\"testing data path\")\n",
    "X_train_data, y_train_data,X_test_data,y_test_data = train_data.iloc[:,:-1].values,train_data.iloc[:,-1].values,test_data.iloc[:,:-1],test_data.iloc[:,-1]\n",
    "skf = StratifiedKFold(n_splits=10, shuffle=True, random_state=42)\n",
    "test_accs = []\n",
    "best_train_data = None\n",
    "best_test_data = None\n",
    "for fold, (train_idx, test_idx) in enumerate(skf.split(X_train_data, y_train_data)):\n",
    "    X_train, y_train = X_train_data[train_idx], y_train_data[train_idx]\n",
    "    X_test, y_test = X_train_data[test_idx], y_train_data[test_idx]\n",
    "    model2 = LogisticRegression()\n",
    "    model2.fit(X_train, y_train)\n",
    "    y_test_pred = model2.predict(X_test)\n",
    "    test_acc = accuracy_score(y_test, y_test_pred)\n",
    "    test_accs.append(test_acc)\n",
    "    if best_test_data is None or test_acc > accuracy_score(best_test_data[1], model2.predict(best_test_data[0])):\n",
    "        best_trainie = (X_train, y_train)\n",
    "        best_testie = (X_test, y_test)\n",
    "avg_test_acc = sum(test_accs) / len(test_accs)\n",
    "x_cross = best_trainie[0]\n",
    "y_cross = best_trainie[1]\n",
    "x_test_cross = best_testie[0]\n",
    "y_test_cross = best_testie[1]\n",
    "model2 = LogisticRegression()\n",
    "model2.fit(x_cross, y_cross)\n",
    "pickle.dump(model2,open('model.pkl','wb'))"
   ]
  }
 ],
 "metadata": {
  "kernelspec": {
   "display_name": "Python 3 (ipykernel)",
   "language": "python",
   "name": "python3"
  },
  "language_info": {
   "codemirror_mode": {
    "name": "ipython",
    "version": 3
   },
   "file_extension": ".py",
   "mimetype": "text/x-python",
   "name": "python",
   "nbconvert_exporter": "python",
   "pygments_lexer": "ipython3",
   "version": "3.9.7"
  }
 },
 "nbformat": 4,
 "nbformat_minor": 5
}
